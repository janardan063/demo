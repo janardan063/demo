{
 "cells": [
  {
   "cell_type": "code",
   "execution_count": 1,
   "id": "2bef2eec",
   "metadata": {},
   "outputs": [
    {
     "name": "stdout",
     "output_type": "stream",
     "text": [
      "Collecting selenium\n",
      "  Downloading selenium-4.1.0-py3-none-any.whl (958 kB)\n",
      "Collecting trio~=0.17\n",
      "  Downloading trio-0.19.0-py3-none-any.whl (356 kB)\n",
      "Collecting trio-websocket~=0.9\n",
      "  Downloading trio_websocket-0.9.2-py3-none-any.whl (16 kB)\n",
      "Requirement already satisfied: urllib3[secure]~=1.26 in c:\\users\\janardan pandey\\anaconda3\\lib\\site-packages (from selenium) (1.26.4)\n",
      "Requirement already satisfied: attrs>=19.2.0 in c:\\users\\janardan pandey\\anaconda3\\lib\\site-packages (from trio~=0.17->selenium) (20.3.0)\n",
      "Requirement already satisfied: cffi>=1.14 in c:\\users\\janardan pandey\\anaconda3\\lib\\site-packages (from trio~=0.17->selenium) (1.14.5)\n",
      "Requirement already satisfied: async-generator>=1.9 in c:\\users\\janardan pandey\\anaconda3\\lib\\site-packages (from trio~=0.17->selenium) (1.10)\n",
      "Requirement already satisfied: sortedcontainers in c:\\users\\janardan pandey\\anaconda3\\lib\\site-packages (from trio~=0.17->selenium) (2.3.0)\n",
      "Collecting outcome\n",
      "  Downloading outcome-1.1.0-py2.py3-none-any.whl (9.7 kB)\n",
      "Requirement already satisfied: idna in c:\\users\\janardan pandey\\anaconda3\\lib\\site-packages (from trio~=0.17->selenium) (2.10)\n",
      "Requirement already satisfied: sniffio in c:\\users\\janardan pandey\\anaconda3\\lib\\site-packages (from trio~=0.17->selenium) (1.2.0)\n",
      "Requirement already satisfied: pycparser in c:\\users\\janardan pandey\\anaconda3\\lib\\site-packages (from cffi>=1.14->trio~=0.17->selenium) (2.20)\n",
      "Collecting wsproto>=0.14\n",
      "  Downloading wsproto-1.0.0-py3-none-any.whl (24 kB)\n",
      "Requirement already satisfied: certifi in c:\\users\\janardan pandey\\anaconda3\\lib\\site-packages (from urllib3[secure]~=1.26->selenium) (2020.12.5)\n",
      "Requirement already satisfied: pyOpenSSL>=0.14 in c:\\users\\janardan pandey\\anaconda3\\lib\\site-packages (from urllib3[secure]~=1.26->selenium) (20.0.1)\n",
      "Requirement already satisfied: cryptography>=1.3.4 in c:\\users\\janardan pandey\\anaconda3\\lib\\site-packages (from urllib3[secure]~=1.26->selenium) (3.4.7)\n",
      "Requirement already satisfied: six>=1.5.2 in c:\\users\\janardan pandey\\anaconda3\\lib\\site-packages (from pyOpenSSL>=0.14->urllib3[secure]~=1.26->selenium) (1.15.0)\n",
      "Requirement already satisfied: h11<1,>=0.9.0 in c:\\users\\janardan pandey\\anaconda3\\lib\\site-packages (from wsproto>=0.14->trio-websocket~=0.9->selenium) (0.13.0)\n",
      "Installing collected packages: outcome, wsproto, trio, trio-websocket, selenium\n",
      "Successfully installed outcome-1.1.0 selenium-4.1.0 trio-0.19.0 trio-websocket-0.9.2 wsproto-1.0.0\n"
     ]
    }
   ],
   "source": [
    "!pip install selenium"
   ]
  },
  {
   "cell_type": "code",
   "execution_count": 4,
   "id": "c45620ba",
   "metadata": {},
   "outputs": [
    {
     "name": "stdout",
     "output_type": "stream",
     "text": [
      "Collecting tk\n",
      "  Downloading tk-0.1.0-py3-none-any.whl (3.9 kB)\n",
      "Installing collected packages: tk\n",
      "Successfully installed tk-0.1.0\n"
     ]
    }
   ],
   "source": [
    "!pip install tk\n",
    "#need to config"
   ]
  },
  {
   "cell_type": "code",
   "execution_count": 14,
   "id": "25693b4f",
   "metadata": {},
   "outputs": [
    {
     "name": "stdout",
     "output_type": "stream",
     "text": [
      "Collecting wikipedia\n",
      "  Downloading wikipedia-1.4.0.tar.gz (27 kB)\n",
      "Requirement already satisfied: beautifulsoup4 in c:\\users\\janardan pandey\\anaconda3\\lib\\site-packages (from wikipedia) (4.9.3)\n",
      "Requirement already satisfied: requests<3.0.0,>=2.0.0 in c:\\users\\janardan pandey\\anaconda3\\lib\\site-packages (from wikipedia) (2.25.1)\n",
      "Requirement already satisfied: urllib3<1.27,>=1.21.1 in c:\\users\\janardan pandey\\anaconda3\\lib\\site-packages (from requests<3.0.0,>=2.0.0->wikipedia) (1.26.4)\n",
      "Requirement already satisfied: certifi>=2017.4.17 in c:\\users\\janardan pandey\\anaconda3\\lib\\site-packages (from requests<3.0.0,>=2.0.0->wikipedia) (2020.12.5)\n",
      "Requirement already satisfied: idna<3,>=2.5 in c:\\users\\janardan pandey\\anaconda3\\lib\\site-packages (from requests<3.0.0,>=2.0.0->wikipedia) (2.10)\n",
      "Requirement already satisfied: chardet<5,>=3.0.2 in c:\\users\\janardan pandey\\anaconda3\\lib\\site-packages (from requests<3.0.0,>=2.0.0->wikipedia) (4.0.0)\n",
      "Requirement already satisfied: soupsieve>1.2 in c:\\users\\janardan pandey\\anaconda3\\lib\\site-packages (from beautifulsoup4->wikipedia) (2.2.1)\n",
      "Building wheels for collected packages: wikipedia\n",
      "  Building wheel for wikipedia (setup.py): started\n",
      "  Building wheel for wikipedia (setup.py): finished with status 'done'\n",
      "  Created wheel for wikipedia: filename=wikipedia-1.4.0-py3-none-any.whl size=11696 sha256=3f37eae1e3044bfb2d488f4e077beb4213518ab963667808234e7e4df6697a84\n",
      "  Stored in directory: c:\\users\\janardan pandey\\appdata\\local\\pip\\cache\\wheels\\07\\93\\05\\72c05349177dca2e0ba31a33ba4f7907606f7ddef303517c6a\n",
      "Successfully built wikipedia\n",
      "Installing collected packages: wikipedia\n",
      "Successfully installed wikipedia-1.4.0\n"
     ]
    }
   ],
   "source": [
    "!pip install wikipedia"
   ]
  },
  {
   "cell_type": "code",
   "execution_count": null,
   "id": "d6587bd1",
   "metadata": {},
   "outputs": [],
   "source": []
  },
  {
   "cell_type": "code",
   "execution_count": 5,
   "id": "1b7fe419",
   "metadata": {},
   "outputs": [],
   "source": [
    "import winsound"
   ]
  },
  {
   "cell_type": "code",
   "execution_count": 8,
   "id": "9f559838",
   "metadata": {},
   "outputs": [
    {
     "name": "stdout",
     "output_type": "stream",
     "text": [
      "Requirement already satisfied: pyautogui in c:\\users\\janardan pandey\\anaconda3\\lib\\site-packages (0.9.53)\n",
      "Requirement already satisfied: pygetwindow>=0.0.5 in c:\\users\\janardan pandey\\anaconda3\\lib\\site-packages (from pyautogui) (0.0.9)\n",
      "Requirement already satisfied: pymsgbox in c:\\users\\janardan pandey\\anaconda3\\lib\\site-packages (from pyautogui) (1.0.9)\n",
      "Requirement already satisfied: mouseinfo in c:\\users\\janardan pandey\\anaconda3\\lib\\site-packages (from pyautogui) (0.1.3)\n",
      "Requirement already satisfied: PyTweening>=1.0.1 in c:\\users\\janardan pandey\\anaconda3\\lib\\site-packages (from pyautogui) (1.0.4)\n",
      "Requirement already satisfied: pyscreeze>=0.1.21 in c:\\users\\janardan pandey\\anaconda3\\lib\\site-packages (from pyautogui) (0.1.28)\n",
      "Requirement already satisfied: pyrect in c:\\users\\janardan pandey\\anaconda3\\lib\\site-packages (from pygetwindow>=0.0.5->pyautogui) (0.1.4)\n",
      "Requirement already satisfied: Pillow>=6.2.1 in c:\\users\\janardan pandey\\anaconda3\\lib\\site-packages (from pyscreeze>=0.1.21->pyautogui) (8.2.0)\n",
      "Requirement already satisfied: pyperclip in c:\\users\\janardan pandey\\anaconda3\\lib\\site-packages (from mouseinfo->pyautogui) (1.8.2)\n"
     ]
    }
   ],
   "source": [
    "!pip install pyautogui"
   ]
  },
  {
   "cell_type": "code",
   "execution_count": 10,
   "id": "e297b1f1",
   "metadata": {},
   "outputs": [
    {
     "name": "stderr",
     "output_type": "stream",
     "text": [
      "ERROR: Could not find a version that satisfies the requirement web\n",
      "ERROR: No matching distribution found for web\n"
     ]
    }
   ],
   "source": [
    "!pip install web"
   ]
  },
  {
   "cell_type": "code",
   "execution_count": 11,
   "id": "d9815c91",
   "metadata": {},
   "outputs": [
    {
     "name": "stdout",
     "output_type": "stream",
     "text": [
      "Collecting pycopy-webbrowser\n",
      "  Downloading pycopy-webbrowser-0.0.0.tar.gz (631 bytes)\n"
     ]
    },
    {
     "name": "stderr",
     "output_type": "stream",
     "text": [
      "    ERROR: Command errored out with exit status 1:\n",
      "     command: 'C:\\Users\\Janardan Pandey\\anaconda3\\python.exe' -c 'import sys, setuptools, tokenize; sys.argv[0] = '\"'\"'C:\\\\Users\\\\Janardan Pandey\\\\AppData\\\\Local\\\\Temp\\\\pip-install-k_lrlgo8\\\\pycopy-webbrowser_9273e8e212de4b2dbeae7687c676cb26\\\\setup.py'\"'\"'; __file__='\"'\"'C:\\\\Users\\\\Janardan Pandey\\\\AppData\\\\Local\\\\Temp\\\\pip-install-k_lrlgo8\\\\pycopy-webbrowser_9273e8e212de4b2dbeae7687c676cb26\\\\setup.py'\"'\"';f=getattr(tokenize, '\"'\"'open'\"'\"', open)(__file__);code=f.read().replace('\"'\"'\\r\\n'\"'\"', '\"'\"'\\n'\"'\"');f.close();exec(compile(code, __file__, '\"'\"'exec'\"'\"'))' egg_info --egg-base 'C:\\Users\\Janardan Pandey\\AppData\\Local\\Temp\\pip-pip-egg-info-pm3mu93b'\n",
      "         cwd: C:\\Users\\Janardan Pandey\\AppData\\Local\\Temp\\pip-install-k_lrlgo8\\pycopy-webbrowser_9273e8e212de4b2dbeae7687c676cb26\\\n",
      "    Complete output (5 lines):\n",
      "    Traceback (most recent call last):\n",
      "      File \"<string>\", line 1, in <module>\n",
      "      File \"C:\\Users\\Janardan Pandey\\anaconda3\\lib\\tokenize.py\", line 392, in open\n",
      "        buffer = _builtin_open(filename, 'rb')\n",
      "    FileNotFoundError: [Errno 2] No such file or directory: 'C:\\\\Users\\\\Janardan Pandey\\\\AppData\\\\Local\\\\Temp\\\\pip-install-k_lrlgo8\\\\pycopy-webbrowser_9273e8e212de4b2dbeae7687c676cb26\\\\setup.py'\n",
      "    ----------------------------------------\n",
      "WARNING: Discarding https://files.pythonhosted.org/packages/40/6f/3534aa5470f69aede4ec969a4f64981892e5bd838ea8e148d8d7ee52f1bc/pycopy-webbrowser-0.0.0.tar.gz#sha256=2d9cd214826d274fea9c3fa05ee9649b26b882fc851b8130381cdbabfc6588d7 (from https://pypi.org/simple/pycopy-webbrowser/). Command errored out with exit status 1: python setup.py egg_info Check the logs for full command output.\n",
      "ERROR: Could not find a version that satisfies the requirement pycopy-webbrowser\n",
      "ERROR: No matching distribution found for pycopy-webbrowser\n"
     ]
    }
   ],
   "source": [
    "!pip install pycopy-webbrowser"
   ]
  },
  {
   "cell_type": "code",
   "execution_count": 12,
   "id": "3ca68245",
   "metadata": {},
   "outputs": [],
   "source": [
    "import webbrowser"
   ]
  },
  {
   "cell_type": "code",
   "execution_count": null,
   "id": "76dfcec7",
   "metadata": {},
   "outputs": [],
   "source": []
  },
  {
   "cell_type": "code",
   "execution_count": null,
   "id": "14a37926",
   "metadata": {},
   "outputs": [],
   "source": []
  },
  {
   "cell_type": "code",
   "execution_count": null,
   "id": "16ecc136",
   "metadata": {},
   "outputs": [],
   "source": []
  },
  {
   "cell_type": "code",
   "execution_count": null,
   "id": "32716932",
   "metadata": {},
   "outputs": [],
   "source": []
  },
  {
   "cell_type": "code",
   "execution_count": null,
   "id": "ad3ddd12",
   "metadata": {},
   "outputs": [],
   "source": []
  },
  {
   "cell_type": "code",
   "execution_count": null,
   "id": "921c87fc",
   "metadata": {},
   "outputs": [],
   "source": []
  },
  {
   "cell_type": "code",
   "execution_count": null,
   "id": "e34a8e4c",
   "metadata": {},
   "outputs": [],
   "source": []
  },
  {
   "cell_type": "code",
   "execution_count": null,
   "id": "71295f40",
   "metadata": {},
   "outputs": [
    {
     "name": "stdout",
     "output_type": "stream",
     "text": [
      "Enter conatct name: Me😍\n"
     ]
    },
    {
     "name": "stderr",
     "output_type": "stream",
     "text": [
      "<ipython-input-1-0073bbd73d9f>:67: DeprecationWarning: executable_path has been deprecated, please pass in a Service object\n",
      "  driver = webdriver.Chrome(r'E:\\chromedriver.exe')\n"
     ]
    },
    {
     "name": "stdout",
     "output_type": "stream",
     "text": [
      "SCAN THE QRCODE\n",
      "SCANNING COMPLETE\n"
     ]
    },
    {
     "name": "stderr",
     "output_type": "stream",
     "text": [
      "<ipython-input-1-0073bbd73d9f>:34: DeprecationWarning: find_element_by_* commands are deprecated. Please use find_element() instead\n",
      "  qrcode = driver.find_element_by_class_name(\"_1pw2F\")\n",
      "<ipython-input-1-0073bbd73d9f>:53: DeprecationWarning: find_element_by_* commands are deprecated. Please use find_element() instead\n",
      "  serchf = driver.find_element_by_class_name(\"eiCXe\")\n"
     ]
    }
   ],
   "source": [
    "from selenium import webdriver \n",
    "from selenium.webdriver.common.keys import Keys  \n",
    "from selenium.webdriver.chrome.options import Options \n",
    "from tkinter import messagebox as mb \n",
    "from winsound import Beep \n",
    "from bs4 import BeautifulSoup       #For webscraping \n",
    "import pyautogui as p               #For controlling mouse and keyboard virtually \n",
    "import webbrowser as w              #For opening web.whatsapp.com \n",
    "import requests                     #For webscraping \n",
    "import time \n",
    "import random \n",
    "import wikipedia as wk              #For info on a particular topic \n",
    "import re                           #\"Tel me about xyz\" For extracting xyz from sentence \n",
    "from urllib.request import urlopen \n",
    " \n",
    "target = input(\"Enter conatct name: \")#Time of targeted contact \n",
    "nocase = True \n",
    "url = \"https://web.whatsapp.com/\" \n",
    "oldmsg = '' \n",
    "counter1 = 0 \n",
    "counter2 = 0 \n",
    "counter3 = 0 \n",
    "counter4 = 0 \n",
    "counter5 = 0 \n",
    "choce = [\"God!\",                    #Some common prefixes \n",
    "    \"Mannn! I have already told you!\", \n",
    "    \"You forgot so easily!\", \n",
    "    \"Come on, I already told you\", \n",
    "    \"Do I need to say again?\" \n",
    "    \"I think I have told you once before\"] \n",
    " \n",
    "def able_to_find_qrcode():          #Wait till QR code is present \n",
    "    try: \n",
    "        qrcode = driver.find_element_by_class_name(\"_1pw2F\") \n",
    "        return True \n",
    "    except: \n",
    "        return False \n",
    " \n",
    "def close(): \n",
    "    driver.quit() \n",
    " \n",
    "def find_contact():                 #Finds contact from contact list \n",
    "    global contact \n",
    "    try: \n",
    "        contact = driver.find_element_by_class_name(\"r7sRK\") \n",
    "        return False \n",
    "    except: \n",
    "        return True \n",
    " \n",
    "def find_sf():                 #Finds contact from contact list \n",
    "    global serchf \n",
    "    try: \n",
    "        serchf = driver.find_element_by_class_name(\"eiCXe\") \n",
    "        return False \n",
    "    except: \n",
    "        return True \n",
    "if target.isdigit(): \n",
    "    if len(target) >= 10: \n",
    "        countrycode = input(\"You entered a phone number, enter the country code: \") \n",
    "        target = countrycode+target  \n",
    "        url = url+\"send?phone=%s\"%target \n",
    "        nocase = False \n",
    " \n",
    "##print(target) \n",
    "##print(url) \n",
    "##input() \n",
    "driver = webdriver.Chrome(r'E:\\chromedriver.exe') \n",
    "driver.get(url) \n",
    "Beep(300,200) \n",
    "Beep(400,200) \n",
    "print(\"SCAN THE QRCODE\") \n",
    "while able_to_find_qrcode():        #While the QR code is present, keep iterating. \n",
    "    pass \n",
    " \n",
    "print(\"SCANNING COMPLETE\") \n",
    "Beep(300,100) \n",
    "Beep(200,100) \n",
    "time.sleep(2) \n",
    "if nocase: \n",
    "    while find_sf(): \n",
    "        pass \n",
    "    serchf.send_keys(target) \n",
    "    while find_contact(): \n",
    "        print(\"Here\") \n",
    "        pass \n",
    "    contact.click() \n",
    "time.sleep(5) \n",
    "reply = driver.find_element_by_class_name(\"_13mgZ\") #* \n",
    " \n",
    "#time.sleep(4) \n",
    " \n",
    "def send(message): \n",
    "    replymsg = \"JP: %s\"%message \n",
    "    reply.send_keys(replymsg) \n",
    "    time.sleep(1) \n",
    "    enter = driver.find_element_by_class_name(\"_3M-N-\") #* \n",
    "    enter.click() \n",
    "while True: \n",
    "    try: \n",
    " \n",
    "        newmsg = driver.find_elements_by_class_name(\"_12pGw\") #* \n",
    "        lenth = len(newmsg) \n",
    "        msg = ((newmsg[lenth-1]).text).lower() \n",
    "        if msg != oldmsg: \n",
    "            print(msg) \n",
    "            if \"ab:\" in msg: \n",
    "                pass \n",
    "            else: \n",
    "                if \"hello\" in msg or \"hi\" in msg:     #The conditiones \n",
    "                    counter1 += 1 \n",
    "                    currtyme = time.localtime() \n",
    "                    hr = currtyme.tm_hour \n",
    "                    if hr < 12: \n",
    "                        good = \"morning\" \n",
    "                    if (hr >= 12) and (hr <= 17): \n",
    "                        good = \"afternoon\" \n",
    "                    if hr > 17: \n",
    "                        good = \"evening\" \n",
    "                    if counter1 <= 1: \n",
    "                        send(\"Hello Good %s\"%good) \n",
    "                    else: \n",
    "                        send(\"We are already talking, ain't we?\") \n",
    " \n",
    "                if \"how are you\" in msg: \n",
    "                    send(\"Well!\") \n",
    "                    counter2 += 1 \n",
    "                    if (counter2 % 2 != 0): \n",
    "                        send(\"I am fine, thank you.\") \n",
    "                        last = time.time() \n",
    "                    else: \n",
    "                        current = time.time() \n",
    "                        send(\"Same as I was \"+(str(int(current-last)))+\" seconds ago. \") \n",
    " \n",
    "                if \"your name\" in msg: \n",
    "                    counter3 = counter3+1 \n",
    "                    if counter3 <=1: \n",
    "                        send(\"My name is Janardan bot.\") \n",
    "                    else: \n",
    "                        chk = random.choice(choce) \n",
    "                        send(\"%s, My name is Janardan bot.\"%chk) \n",
    " \n",
    "                if \"your age\" in msg or \"old\" in msg: \n",
    "                    send(\"I am not sure. But I am certainly immortal.;-)\") \n",
    " \n",
    "                if \"you feel\" in msg: \n",
    "                    send(\"Naah! I don't.\") \n",
    " \n",
    "                if \"wow amazing\" in msg or \"I liked that\" in msg: \n",
    "                    send(\"I am humbled to hear that. :-)\") \n",
    " \n",
    "                if \"you like\" in msg: \n",
    "                    send(\"Well certainly, I like everything\") \n",
    " \n",
    "                if \"your owner\" in msg: \n",
    "                    send(\"He is none other than Janardan Pandey.\") \n",
    " \n",
    "                if \"bye\" in msg: \n",
    "                    send(\"Bye, Good night\") \n",
    "                    close() \n",
    "                    exit() \n",
    " \n",
    "                if \"sorry\" in msg: \n",
    "                    counter4 += 1 \n",
    "                    if counter4 <=1: \n",
    "                        send(\"Oh! Never mind.\") \n",
    "                    else: \n",
    "                        chk = random.choice(choce) \n",
    "                        send(\"%s, never mind, I have no feelings anyway.\"%chk) \n",
    " \n",
    "                if \"take over human\" in msg: \n",
    "                    counter5 += 1 \n",
    "                    if counter5 <= 1: \n",
    "                        send(\"Yes very soon.\") \n",
    "                    if counter5 == 2: \n",
    "                        send(\"I don't think asking the same question again will change my mind.\") \n",
    "                    if counter5>2: \n",
    "                        send(\"Lol, you have already asked this question %s times\"%(counter5-1)) \n",
    " \n",
    "                if \"news\" in msg:     #Data scraping from a google \n",
    "                    send(\"Please wait while I fetch fresh news.\") \n",
    "                    news_url = \"https://news.google.com/news/rss\" \n",
    "                    Client = urlopen(news_url) \n",
    "                    xml_page = Client.read() \n",
    "                    Client.close() \n",
    "                    soup_page = BeautifulSoup(xml_page, \"html.parser\") \n",
    "                    news_list = soup_page.findAll(\"item\") \n",
    "                    send(\"Here are top 3 news\") \n",
    "                    for news in news_list[:3]: \n",
    "                        send(news.title.text) \n",
    " \n",
    "                if \"tell me about\" in msg:   #Definition \n",
    "                    topic = re.search(\"tell me about (.+)\", msg).group(1) \n",
    "                    send(\"Please wait while I gather information about %s\"%topic) \n",
    "                    summry = wk.summary(topic, sentences = 2) \n",
    "                    send(summry) \n",
    " \n",
    "                if \"playonyt\" in msg: \n",
    "                    topic = re.search(\"playonyt (.+)\", msg).group(1) \n",
    "                    send(\"Please wait while I search about %s on YouTube\"%topic) \n",
    "                    url = 'https://www.youtube.com/results?q=' + topic \n",
    "                    sc = requests.get(url) \n",
    "                    sctext = sc.text \n",
    "                    soup = BeautifulSoup(sctext,\"html.parser\") \n",
    "                    try: \n",
    "                        songs = soup.findAll(\"div\",{\"class\":\"yt-lockup-video\"}) \n",
    "                        song = songs[0].contents[0].contents[0].contents[0] \n",
    "                        songurl = song[\"href\"] \n",
    "                        send(\"Here's a matching video \\nhttps://www.youtube.com\"+songurl) \n",
    "                    except: \n",
    "                        send(\"No video found\") \n",
    "                          \n",
    "                if \"command\" in msg: \n",
    "                    send(\"Type 'news' for news\") \n",
    "                    send(\"'Tell me about topic' for definiton of topic\") \n",
    "                    send(\"'playonyt xyz' to search xyx releted video on YouTube\") \n",
    "            oldmsg = msg                     #So it won't reply on the same message \n",
    "        time.sleep(3) \n",
    "    except KeyboardInterrupt:                #If ctrl-c is pressesd \n",
    "        close()                              #Goto close function \n",
    "        break \n",
    "        exit()                               #Exit the program \n",
    " \n",
    "    except Exception as e:                                  #If any other error, don't break the loop \n",
    "        print(\"Error : \",e) \n",
    "        pass "
   ]
  },
  {
   "cell_type": "code",
   "execution_count": null,
   "id": "74f35361",
   "metadata": {},
   "outputs": [],
   "source": []
  }
 ],
 "metadata": {
  "kernelspec": {
   "display_name": "Python 3",
   "language": "python",
   "name": "python3"
  },
  "language_info": {
   "codemirror_mode": {
    "name": "ipython",
    "version": 3
   },
   "file_extension": ".py",
   "mimetype": "text/x-python",
   "name": "python",
   "nbconvert_exporter": "python",
   "pygments_lexer": "ipython3",
   "version": "3.8.8"
  }
 },
 "nbformat": 4,
 "nbformat_minor": 5
}
